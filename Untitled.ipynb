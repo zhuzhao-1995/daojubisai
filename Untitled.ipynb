{
 "cells": [
  {
   "cell_type": "code",
   "execution_count": 1,
   "metadata": {},
   "outputs": [],
   "source": [
    "from __future__ import print_function\n",
    "# import keras\n",
    "# from sklearn.cross_validation import train_test_split\n",
    "# from keras.preprocessing import sequence\n",
    "# from keras.models import Sequential\n",
    "# from keras import utils as np_utils\n",
    "# from keras.optimizers import Adam\n",
    "# from keras.layers import Dense, Dropout, Activation\n",
    "# from keras.layers import Embedding, Flatten\n",
    "# from keras.layers import Conv1D, GlobalMaxPooling1D\n",
    "# from keras.layers import Convolution2D, MaxPooling2D\n",
    "import csv\n",
    "import numpy as np\n",
    "import pandas as pd\n",
    "import os\n",
    "import sys"
   ]
  },
  {
   "cell_type": "code",
   "execution_count": 3,
   "metadata": {},
   "outputs": [
    {
     "name": "stdout",
     "output_type": "stream",
     "text": [
      "2\n",
      "['1.csv', '2.csv']\n",
      "<class 'numpy.ndarray'> (1, 1548800)\n",
      "<class 'numpy.ndarray'> (1, 1548800)\n",
      "<class 'numpy.ndarray'> (1, 1548800)\n",
      "<class 'numpy.ndarray'> (1, 1548800)\n",
      "[[-3.18376648e+01 -3.20893216e+01 -3.19758957e+01 ... -5.72344277e+01\n",
      "  -5.15071899e+01 -4.74658486e+01]\n",
      " [-1.85453420e+01 -1.87102308e+01 -1.82667477e+01 ...  3.65882675e+01\n",
      "   3.45423816e+01  3.35697447e+01]\n",
      " [ 4.89021644e+01  4.86271234e+01  4.96781851e+01 ...  1.87884827e+01\n",
      "   1.46312087e+01  1.22322490e+01]\n",
      " [ 2.41887732e-02  4.35862326e-02  3.80963856e-02 ... -3.27825919e+00\n",
      "  -7.68057147e-01 -6.00189826e-01]]\n",
      "<class 'numpy.ndarray'> (4, 1548800)\n"
     ]
    }
   ],
   "source": [
    "#设置当前目录\n",
    "os.chdir(r'D:\\TJU\\学习\\GITHUB\\01\\Sensor')\n",
    "# 所有csv文件名称列表 <class 'list'>\n",
    "file_list=os.listdir(r'D:\\TJU\\学习\\GITHUB\\01\\Sensor')\n",
    "file_list_num=len(file_list)\n",
    "\n",
    "print(len(file_list))#一共有多少个文件名\n",
    "print(file_list)\n",
    "\n",
    "with open(r'1.csv', encoding='utf-8') as csvfile:\n",
    "    vibration_x= pd.read_csv(filepath_or_buffer = '1.csv', sep = ',')[\"vibration_1\"].values\n",
    "    vibration_y= pd.read_csv(filepath_or_buffer = '1.csv', sep = ',')[\"vibration_3\"].values\n",
    "    vibration_z= pd.read_csv(filepath_or_buffer = '1.csv', sep = ',')[\"vibration_2\"].values\n",
    "    current= pd.read_csv(filepath_or_buffer = '1.csv', sep = ',')[\"current\"].values\n",
    "    \n",
    "    vibration_x=vibration_x.reshape(1,-1)\n",
    "    vibration_y=vibration_y.reshape(1,-1)\n",
    "    vibration_z=vibration_z.reshape(1,-1)\n",
    "    current=current.reshape(1,-1)\n",
    "    \n",
    "#     print(type(vibration_x),vibration_x.shape)\n",
    "#     print(type(vibration_y),vibration_y.shape)\n",
    "#     print(type(vibration_z),vibration_z.shape)\n",
    "#     print(type(current),current.shape)\n",
    "    \n",
    "data=vibration_x\n",
    "data=np.vstack((data,vibration_y))\n",
    "data=np.vstack((data,vibration_z))\n",
    "data=np.vstack((data,current))\n",
    "print(data)\n",
    "print(type(data),data.shape)"
   ]
  },
  {
   "cell_type": "code",
   "execution_count": 8,
   "metadata": {},
   "outputs": [
    {
     "name": "stdout",
     "output_type": "stream",
     "text": [
      "[[-3.18376648e+01 -3.20893216e+01 -3.19758957e+01 ... -5.72344277e+01\n",
      "  -5.15071899e+01 -4.74658486e+01]\n",
      " [-1.85453420e+01 -1.87102308e+01 -1.82667477e+01 ...  3.65882675e+01\n",
      "   3.45423816e+01  3.35697447e+01]\n",
      " [ 4.89021644e+01  4.86271234e+01  4.96781851e+01 ...  1.87884827e+01\n",
      "   1.46312087e+01  1.22322490e+01]\n",
      " [ 2.41887732e-02  4.35862326e-02  3.80963856e-02 ... -3.27825919e+00\n",
      "  -7.68057147e-01 -6.00189826e-01]]\n",
      "<class 'numpy.ndarray'> (4, 1548800)\n",
      "(3025, 4, 16, 32)\n",
      "[[ 44.10049692  42.05099158  41.59813482 ... -40.90129138 -38.60313974\n",
      "  -36.95038973]\n",
      " [-46.71932834 -46.72919535 -45.89084383 ...  47.57047198  49.33350355\n",
      "   50.51059119]\n",
      " [  1.14064206   3.04770338   2.86169139 ...  -8.84907868 -12.26202294\n",
      "  -15.20298525]\n",
      " [ -1.38743389   0.77544384  -0.34546092 ...   0.44507704   0.13349773\n",
      "   -2.16479622]]\n",
      "<class 'numpy.ndarray'> (4, 1548800)\n",
      "(3025, 4, 16, 32)\n"
     ]
    }
   ],
   "source": [
    "\n",
    "def get_data(file):\n",
    "    with open(file, encoding='utf-8') as csvfile:\n",
    "        vibration_x= pd.read_csv(filepath_or_buffer = file, sep = ',')[\"vibration_1\"].values\n",
    "        vibration_y= pd.read_csv(filepath_or_buffer = file, sep = ',')[\"vibration_3\"].values\n",
    "        vibration_z= pd.read_csv(filepath_or_buffer = file, sep = ',')[\"vibration_2\"].values\n",
    "        current= pd.read_csv(filepath_or_buffer = file, sep = ',')[\"current\"].values\n",
    "    \n",
    "    vibration_x=vibration_x.reshape(1,-1)\n",
    "    vibration_y=vibration_y.reshape(1,-1)\n",
    "    vibration_z=vibration_z.reshape(1,-1)\n",
    "    current=current.reshape(1,-1)\n",
    "        \n",
    "    data=vibration_x\n",
    "    data=np.vstack((data,vibration_y))\n",
    "    data=np.vstack((data,vibration_z))\n",
    "    data=np.vstack((data,current))\n",
    "    print(data)\n",
    "    print(type(data),data.shape)\n",
    "    return data\n",
    "#     print(type(vibration_x),vibration_x.shape)\n",
    "#     print(type(vibration_y),vibration_y.shape)\n",
    "#     print(type(vibration_z),vibration_z.shape)\n",
    "#     print(type(current),current.shape)\n",
    "    \n",
    "i_num = np.linspace(1,file_list_num,file_list_num)\n",
    "a=[]\n",
    "for file in file_list:\n",
    "    b=get_data(file)\n",
    "    c=b.reshape(-1,4,16,32)\n",
    "    print(c.shape)\n",
    "#     a=np.vstack((a,b))"
   ]
  },
  {
   "cell_type": "code",
   "execution_count": 11,
   "metadata": {},
   "outputs": [],
   "source": [
    "def init_data(data,num):\n",
    "    if data.shape[1]%num == 0:\n",
    "        data=data.reshape(-1,4,32,32)\n",
    "    else:\n",
    "            #除法向下取整，判断一个csv文件之中能取多少个样本\n",
    "        a=data.shape[1]//num\n",
    "            # print(a)\n",
    "            #对数据进行切片处理，取样本数的整数倍数据，后面的不要了\n",
    "        data=data[:,:a*num]\n",
    "        data=data.reshape(-1,4,32,32)\n",
    "    return data"
   ]
  },
  {
   "cell_type": "code",
   "execution_count": 13,
   "metadata": {},
   "outputs": [
    {
     "name": "stdout",
     "output_type": "stream",
     "text": [
      "(1512, 4, 32, 32)\n"
     ]
    }
   ],
   "source": [
    "ceshi=init_data(b,1024)\n",
    "print(ceshi.shape)"
   ]
  },
  {
   "cell_type": "code",
   "execution_count": 16,
   "metadata": {},
   "outputs": [
    {
     "name": "stdout",
     "output_type": "stream",
     "text": [
      "[[-3.18376648e+01 -3.20893216e+01 -3.19758957e+01 ... -5.72344277e+01\n",
      "  -5.15071899e+01 -4.74658486e+01]\n",
      " [-1.85453420e+01 -1.87102308e+01 -1.82667477e+01 ...  3.65882675e+01\n",
      "   3.45423816e+01  3.35697447e+01]\n",
      " [ 4.89021644e+01  4.86271234e+01  4.96781851e+01 ...  1.87884827e+01\n",
      "   1.46312087e+01  1.22322490e+01]\n",
      " [ 2.41887732e-02  4.35862326e-02  3.80963856e-02 ... -3.27825919e+00\n",
      "  -7.68057147e-01 -6.00189826e-01]]\n",
      "<class 'numpy.ndarray'> (4, 1548800)\n",
      "(1512, 4, 32, 32)\n",
      "[[ 44.10049692  42.05099158  41.59813482 ... -40.90129138 -38.60313974\n",
      "  -36.95038973]\n",
      " [-46.71932834 -46.72919535 -45.89084383 ...  47.57047198  49.33350355\n",
      "   50.51059119]\n",
      " [  1.14064206   3.04770338   2.86169139 ...  -8.84907868 -12.26202294\n",
      "  -15.20298525]\n",
      " [ -1.38743389   0.77544384  -0.34546092 ...   0.44507704   0.13349773\n",
      "   -2.16479622]]\n",
      "<class 'numpy.ndarray'> (4, 1548800)\n",
      "(1512, 4, 32, 32)\n"
     ]
    }
   ],
   "source": [
    "i_num = np.linspace(1,file_list_num,file_list_num) #  起点 终点 数量\n",
    "a=[]\n",
    "for file in file_list:\n",
    "    b=get_data(file)\n",
    "    c=init_data(b,1024)\n",
    "    print(c.shape)"
   ]
  },
  {
   "cell_type": "code",
   "execution_count": 18,
   "metadata": {},
   "outputs": [
    {
     "name": "stdout",
     "output_type": "stream",
     "text": [
      "[[-3.18376648e+01 -3.20893216e+01 -3.19758957e+01 ... -5.72344277e+01\n",
      "  -5.15071899e+01 -4.74658486e+01]\n",
      " [-1.85453420e+01 -1.87102308e+01 -1.82667477e+01 ...  3.65882675e+01\n",
      "   3.45423816e+01  3.35697447e+01]\n",
      " [ 4.89021644e+01  4.86271234e+01  4.96781851e+01 ...  1.87884827e+01\n",
      "   1.46312087e+01  1.22322490e+01]\n",
      " [ 2.41887732e-02  4.35862326e-02  3.80963856e-02 ... -3.27825919e+00\n",
      "  -7.68057147e-01 -6.00189826e-01]]\n",
      "<class 'numpy.ndarray'> (4, 1548800)\n",
      "(1512, 4, 32, 32)\n",
      "[[ 44.10049692  42.05099158  41.59813482 ... -40.90129138 -38.60313974\n",
      "  -36.95038973]\n",
      " [-46.71932834 -46.72919535 -45.89084383 ...  47.57047198  49.33350355\n",
      "   50.51059119]\n",
      " [  1.14064206   3.04770338   2.86169139 ...  -8.84907868 -12.26202294\n",
      "  -15.20298525]\n",
      " [ -1.38743389   0.77544384  -0.34546092 ...   0.44507704   0.13349773\n",
      "   -2.16479622]]\n",
      "<class 'numpy.ndarray'> (4, 1548800)\n",
      "(1512, 4, 32, 32)\n"
     ]
    }
   ],
   "source": [
    "a=[]\n",
    "a=np.array(a).reshape(-1,4,32,32)\n",
    "for file in file_list:\n",
    "    b=get_data(file)\n",
    "    c=init_data(b,1024)\n",
    "    print(c.shape)\n",
    "    a=np.vstack((a,c))"
   ]
  },
  {
   "cell_type": "code",
   "execution_count": 19,
   "metadata": {},
   "outputs": [
    {
     "name": "stdout",
     "output_type": "stream",
     "text": [
      "(3024, 4, 32, 32)\n"
     ]
    }
   ],
   "source": [
    "print(a.shape)"
   ]
  },
  {
   "cell_type": "code",
   "execution_count": 56,
   "metadata": {},
   "outputs": [
    {
     "name": "stdout",
     "output_type": "stream",
     "text": [
      "[[-3.18376648e+01 -3.20893216e+01 -3.19758957e+01 ... -5.72344277e+01\n",
      "  -5.15071899e+01 -4.74658486e+01]\n",
      " [-1.85453420e+01 -1.87102308e+01 -1.82667477e+01 ...  3.65882675e+01\n",
      "   3.45423816e+01  3.35697447e+01]\n",
      " [ 4.89021644e+01  4.86271234e+01  4.96781851e+01 ...  1.87884827e+01\n",
      "   1.46312087e+01  1.22322490e+01]\n",
      " [ 2.41887732e-02  4.35862326e-02  3.80963856e-02 ... -3.27825919e+00\n",
      "  -7.68057147e-01 -6.00189826e-01]]\n",
      "<class 'numpy.ndarray'> (4, 1548800)\n",
      "1.0 (4, 1548800)\n",
      "1.0 (1512, 4, 32, 32)\n",
      "[[1.]\n",
      " [1.]\n",
      " [1.]\n",
      " ...\n",
      " [1.]\n",
      " [1.]\n",
      " [1.]] 1.0 (1512, 1)\n",
      "[[1.]\n",
      " [1.]\n",
      " [1.]\n",
      " ...\n",
      " [1.]\n",
      " [1.]\n",
      " [1.]] 1.0 (1512, 1)\n",
      "[[ 44.10049692  42.05099158  41.59813482 ... -40.90129138 -38.60313974\n",
      "  -36.95038973]\n",
      " [-46.71932834 -46.72919535 -45.89084383 ...  47.57047198  49.33350355\n",
      "   50.51059119]\n",
      " [  1.14064206   3.04770338   2.86169139 ...  -8.84907868 -12.26202294\n",
      "  -15.20298525]\n",
      " [ -1.38743389   0.77544384  -0.34546092 ...   0.44507704   0.13349773\n",
      "   -2.16479622]]\n",
      "<class 'numpy.ndarray'> (4, 1548800)\n",
      "2.0 (4, 1548800)\n",
      "2.0 (1512, 4, 32, 32)\n",
      "[[2.]\n",
      " [2.]\n",
      " [2.]\n",
      " ...\n",
      " [2.]\n",
      " [2.]\n",
      " [2.]] 2.0 (1512, 1)\n",
      "[[1.]\n",
      " [1.]\n",
      " [1.]\n",
      " ...\n",
      " [2.]\n",
      " [2.]\n",
      " [2.]] 2.0 (3024, 1)\n"
     ]
    }
   ],
   "source": [
    "i_num = np.linspace(1,file_list_num,file_list_num) #  起点 终点 数量\n",
    "\n",
    "y_label=[]\n",
    "y_label=np.array(y_label).reshape(-1,1)\n",
    "# print(y_label.shape)\n",
    "# for i in i_num:\n",
    "#     y1 = i * np.ones((b.shape[0],1), dtype = np.int)\n",
    "#     y_label= np.vstack((y_label,y1))\n",
    "# print(y_label)\n",
    "\n",
    "# for file in file_list:\n",
    "for i in i_num:\n",
    "    y1=[]\n",
    "    y1=np.array(y1).reshape(-1,1)\n",
    "    b=get_data(file_list[int(i-1)])\n",
    "    print(i,b.shape)\n",
    "    c=init_data(b,1024)\n",
    "    print(i,c.shape)\n",
    "    y1 = i * np.ones((c.shape[0],1), dtype = np.int)\n",
    "    print(y1,i,y1.shape)\n",
    "#     a = np.vstack((a,c))\n",
    "    y_label= np.vstack((y_label,y1))\n",
    "    print(y_label,i,y_label.shape)"
   ]
  },
  {
   "cell_type": "code",
   "execution_count": 52,
   "metadata": {},
   "outputs": [
    {
     "data": {
      "text/plain": [
       "'1.csv'"
      ]
     },
     "execution_count": 52,
     "metadata": {},
     "output_type": "execute_result"
    }
   ],
   "source": [
    "file_list[0]"
   ]
  },
  {
   "cell_type": "code",
   "execution_count": null,
   "metadata": {},
   "outputs": [],
   "source": []
  }
 ],
 "metadata": {
  "kernelspec": {
   "display_name": "Python 3",
   "language": "python",
   "name": "python3"
  },
  "language_info": {
   "codemirror_mode": {
    "name": "ipython",
    "version": 3
   },
   "file_extension": ".py",
   "mimetype": "text/x-python",
   "name": "python",
   "nbconvert_exporter": "python",
   "pygments_lexer": "ipython3",
   "version": "3.6.5"
  }
 },
 "nbformat": 4,
 "nbformat_minor": 2
}
